{
 "cells": [
  {
   "cell_type": "code",
   "execution_count": 1,
   "metadata": {},
   "outputs": [],
   "source": [
    "# !python3.8 -m pip install GetOldTweets3\n",
    "# !python3.8 -m pip install pandas\n",
    "# !python3.8 -m pip install pyarrow"
   ]
  },
  {
   "cell_type": "code",
   "execution_count": 2,
   "metadata": {},
   "outputs": [],
   "source": [
    "import GetOldTweets3 as got\n",
    "import pandas as pd\n",
    "import time"
   ]
  },
  {
   "cell_type": "code",
   "execution_count": 3,
   "metadata": {},
   "outputs": [],
   "source": [
    "search_list = ('Donald Trump', 'Trump')\n",
    "search_numb = 10000\n",
    "s_month = 8\n",
    "e_month = 12"
   ]
  },
  {
   "cell_type": "code",
   "execution_count": null,
   "metadata": {},
   "outputs": [
    {
     "name": "stdout",
     "output_type": "stream",
     "text": [
      "[System]: Existed 2016-8-1's data.(Donald Trump)\n",
      "[System]: Existed 2016-8-2's data.(Donald Trump)\n",
      "[System]: Existed 2016-8-3's data.(Donald Trump)\n",
      "[System]: Existed 2016-8-4's data.(Donald Trump)\n",
      "[System]: Existed 2016-8-5's data.(Donald Trump)\n",
      "[System]: Existed 2016-8-6's data.(Donald Trump)\n",
      "[System]: Existed 2016-8-7's data.(Donald Trump)\n",
      "[System]: Existed 2016-8-8's data.(Donald Trump)\n",
      "[System]: Existed 2016-8-9's data.(Donald Trump)\n",
      "[System]: Existed 2016-8-10's data.(Donald Trump)\n",
      "[System]: Existed 2016-8-11's data.(Donald Trump)\n",
      "[System]: Existed 2016-8-12's data.(Donald Trump)\n",
      "[System]: Existed 2016-8-13's data.(Donald Trump)\n",
      "[System]: Existed 2016-8-14's data.(Donald Trump)\n",
      "[System]: Existed 2016-8-15's data.(Donald Trump)\n",
      "[System]: Existed 2016-8-16's data.(Donald Trump)\n",
      "[System]: Existed 2016-8-17's data.(Donald Trump)\n",
      "[System]: Existed 2016-8-18's data.(Donald Trump)\n",
      "[System]: Existed 2016-8-19's data.(Donald Trump)\n",
      "[System]: Existed 2016-8-20's data.(Donald Trump)\n",
      "[System]: Existed 2016-8-21's data.(Donald Trump)\n",
      "[System]: Existed 2016-8-22's data.(Donald Trump)\n",
      "[System]: Existed 2016-8-23's data.(Donald Trump)\n",
      "[System]: Existed 2016-8-24's data.(Donald Trump)\n",
      "[System]: Existed 2016-8-25's data.(Donald Trump)\n",
      "[System]: Existed 2016-8-26's data.(Donald Trump)\n",
      "[System]: Existed 2016-8-27's data.(Donald Trump)\n",
      "[System]: Existed 2016-8-28's data.(Donald Trump)\n",
      "[System]: Existed 2016-8-29's data.(Donald Trump)\n",
      "[System]: Existed 2016-8-30's data.(Donald Trump)\n",
      "[System]: Existed 2016-8-31's data.(Donald Trump)\n",
      "[System]: Existed 2016-9-1's data.(Donald Trump)\n",
      "[System]: Existed 2016-9-2's data.(Donald Trump)\n",
      "[System]: Existed 2016-9-3's data.(Donald Trump)\n",
      "[System]: Existed 2016-9-4's data.(Donald Trump)\n",
      "[System]: Existed 2016-9-5's data.(Donald Trump)\n",
      "[System]: Existed 2016-9-6's data.(Donald Trump)\n",
      "[System]: Existed 2016-9-7's data.(Donald Trump)\n",
      "[System]: Existed 2016-9-8's data.(Donald Trump)\n",
      "[System]: Existed 2016-9-9's data.(Donald Trump)\n",
      "[System]: Existed 2016-9-10's data.(Donald Trump)\n",
      "[System]: Existed 2016-9-11's data.(Donald Trump)\n",
      "[System]: Existed 2016-9-12's data.(Donald Trump)\n",
      "[System]: Existed 2016-9-13's data.(Donald Trump)\n",
      "[System]: Existed 2016-9-14's data.(Donald Trump)\n",
      "[System]: Retriving 2016-9-15's data.(Donald Trump)\n",
      "[System]: Retrived 2016-9-15's data.(Donald Trump) Took 86.493 seconds.\n",
      "[System]: Saved 2016-9-15's data.(Donald Trump) Data size 2190.\n",
      "[System]: Retriving 2016-9-16's data.(Donald Trump)\n",
      "[System]: Retrived 2016-9-16's data.(Donald Trump) Took 115.178 seconds.\n",
      "[System]: Saved 2016-9-16's data.(Donald Trump) Data size 2865.\n",
      "[System]: Retriving 2016-9-17's data.(Donald Trump)\n",
      "[System]: Retrived 2016-9-17's data.(Donald Trump) Took 88.347 seconds.\n",
      "[System]: Saved 2016-9-17's data.(Donald Trump) Data size 2224.\n",
      "[System]: Retriving 2016-9-18's data.(Donald Trump)\n"
     ]
    }
   ],
   "source": [
    "for s in search_list:\n",
    "    for month in range(s_month, e_month + 1):\n",
    "        for day in range(1, 32):\n",
    "            start_date = \"2016\" + \"-\" + str(month) + \"-\" + str(day)\n",
    "            final_date = \"2016\" + \"-\" + str(month) + \"-\" + str(day + 1)\n",
    "            file_loca = \"./data/\" + s.replace(\" \", \"-\")\n",
    "            file_name = file_loca + \"/\" + s.replace(\" \", \"-\") + \"-\" + start_date +'.parquet.gzip'\n",
    "            \n",
    "            \n",
    "            import os\n",
    "            if os.path.exists(file_loca) == False:\n",
    "                os.mkdir(file_loca)\n",
    "            if os.path.exists(file_name):\n",
    "                print(\"[System]: Existed \" + start_date + \"'s data.\" + \"(\" + s + \")\")\n",
    "                continue\n",
    "            \n",
    "            tweetCriteria = got.manager.TweetCriteria()\n",
    "            tweetCriteria.setQuerySearch(s)\n",
    "            tweetCriteria.setSince(start_date)\n",
    "            tweetCriteria.setUntil(final_date)\n",
    "            tweetCriteria.setMaxTweets(search_numb)\n",
    "            tweetCriteria.setTopTweets(True)\n",
    "            \n",
    "            while True:\n",
    "                try:\n",
    "                    start = time.time()\n",
    "                    print(\"[System]: Retriving \" + start_date + \"'s data.\" + \"(\" + s + \")\")\n",
    "                    tweets = got.manager.TweetManager.getTweets(tweetCriteria)\n",
    "                    end = time.time()\n",
    "                    print(\"[System]: Retrived \" + start_date + \"'s data.\" + \"(\" + s + \")\" + \" Took {:.3f} seconds.\".format(end - start))\n",
    "            \n",
    "                    df = pd.DataFrame(columns = ['id', 'permalink', 'username', 'to', 'text', 'date', 'retweets', 'favorites', 'mentions', 'hashtags', 'geo'])\n",
    "                    for tweet in tweets:\n",
    "                        new_row = {'id': tweet.id, 'permalink':tweet.permalink, 'username':tweet.username, 'to':tweet.to, 'text':tweet.text, 'date':tweet.date, 'retweets':tweet.retweets, 'favorites':tweet.favorites, 'mentions':tweet.mentions, 'hashtags':tweet.hashtags, 'geo':tweet.geo}\n",
    "                        df = df.append(new_row, ignore_index=True)\n",
    "                    df.to_parquet(file_name, compression='gzip')\n",
    "                    print(\"[System]: Saved \" + start_date + \"'s data.\" + \"(\" + s + \")\" + \" Data size \" + str(len(df)) + \".\")\n",
    "                    break;\n",
    "                except:\n",
    "                    print(\"[System]: Too many requests. Sleep 10 seconds!\")\n",
    "                    import time\n",
    "                    time.sleep(10)"
   ]
  },
  {
   "cell_type": "code",
   "execution_count": null,
   "metadata": {},
   "outputs": [],
   "source": []
  },
  {
   "cell_type": "code",
   "execution_count": null,
   "metadata": {},
   "outputs": [],
   "source": []
  }
 ],
 "metadata": {
  "kernelspec": {
   "display_name": "Python3.8",
   "language": "python",
   "name": "python3.8"
  },
  "language_info": {
   "codemirror_mode": {
    "name": "ipython",
    "version": 3
   },
   "file_extension": ".py",
   "mimetype": "text/x-python",
   "name": "python",
   "nbconvert_exporter": "python",
   "pygments_lexer": "ipython3",
   "version": "3.8.1"
  }
 },
 "nbformat": 4,
 "nbformat_minor": 4
}
